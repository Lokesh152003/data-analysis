{
 "cells": [
  {
   "cell_type": "code",
   "execution_count": 1,
   "id": "2bb4468e",
   "metadata": {},
   "outputs": [
    {
     "name": "stdout",
     "output_type": "stream",
     "text": [
      "hii\n"
     ]
    }
   ],
   "source": [
    "print(\"hii\")"
   ]
  },
  {
   "cell_type": "code",
   "execution_count": 2,
   "id": "5a0b9c87",
   "metadata": {},
   "outputs": [
    {
     "ename": "ModuleNotFoundError",
     "evalue": "No module named 'selenium'",
     "output_type": "error",
     "traceback": [
      "\u001b[1;31m---------------------------------------------------------------------------\u001b[0m",
      "\u001b[1;31mModuleNotFoundError\u001b[0m                       Traceback (most recent call last)",
      "Cell \u001b[1;32mIn[2], line 1\u001b[0m\n\u001b[1;32m----> 1\u001b[0m \u001b[38;5;28;01mimport\u001b[39;00m \u001b[38;5;21;01mselenium\u001b[39;00m\n",
      "\u001b[1;31mModuleNotFoundError\u001b[0m: No module named 'selenium'"
     ]
    }
   ],
   "source": [
    "import selenium "
   ]
  },
  {
   "cell_type": "code",
   "execution_count": 3,
   "id": "81bab9a1",
   "metadata": {},
   "outputs": [
    {
     "name": "stdout",
     "output_type": "stream",
     "text": [
      "Collecting selenium\n",
      "  Downloading selenium-4.18.1-py3-none-any.whl (10.0 MB)\n",
      "     ---------------------------------------- 10.0/10.0 MB 3.1 MB/s eta 0:00:00\n",
      "Collecting trio-websocket~=0.9\n",
      "  Downloading trio_websocket-0.11.1-py3-none-any.whl (17 kB)\n",
      "Requirement already satisfied: certifi>=2021.10.8 in c:\\users\\chlok\\anaconda1\\lib\\site-packages (from selenium) (2024.2.2)\n",
      "Collecting typing_extensions>=4.9.0\n",
      "  Downloading typing_extensions-4.10.0-py3-none-any.whl (33 kB)\n",
      "Requirement already satisfied: urllib3[socks]<3,>=1.26 in c:\\users\\chlok\\anaconda1\\lib\\site-packages (from selenium) (1.26.14)\n",
      "Collecting trio~=0.17\n",
      "  Downloading trio-0.24.0-py3-none-any.whl (460 kB)\n",
      "     -------------------------------------- 460.2/460.2 kB 5.8 MB/s eta 0:00:00\n",
      "Requirement already satisfied: attrs>=20.1.0 in c:\\users\\chlok\\anaconda1\\lib\\site-packages (from trio~=0.17->selenium) (22.1.0)\n",
      "Collecting sniffio>=1.3.0\n",
      "  Downloading sniffio-1.3.1-py3-none-any.whl (10 kB)\n",
      "Requirement already satisfied: sortedcontainers in c:\\users\\chlok\\anaconda1\\lib\\site-packages (from trio~=0.17->selenium) (2.4.0)\n",
      "Requirement already satisfied: idna in c:\\users\\chlok\\anaconda1\\lib\\site-packages (from trio~=0.17->selenium) (3.4)\n",
      "Requirement already satisfied: cffi>=1.14 in c:\\users\\chlok\\anaconda1\\lib\\site-packages (from trio~=0.17->selenium) (1.15.1)\n",
      "Collecting outcome\n",
      "  Downloading outcome-1.3.0.post0-py2.py3-none-any.whl (10 kB)\n",
      "Collecting exceptiongroup\n",
      "  Downloading exceptiongroup-1.2.0-py3-none-any.whl (16 kB)\n",
      "Collecting wsproto>=0.14\n",
      "  Downloading wsproto-1.2.0-py3-none-any.whl (24 kB)\n",
      "Requirement already satisfied: PySocks!=1.5.7,<2.0,>=1.5.6 in c:\\users\\chlok\\anaconda1\\lib\\site-packages (from urllib3[socks]<3,>=1.26->selenium) (1.7.1)\n",
      "Requirement already satisfied: pycparser in c:\\users\\chlok\\anaconda1\\lib\\site-packages (from cffi>=1.14->trio~=0.17->selenium) (2.21)\n",
      "Collecting h11<1,>=0.9.0\n",
      "  Downloading h11-0.14.0-py3-none-any.whl (58 kB)\n",
      "     ---------------------------------------- 58.3/58.3 kB 3.2 MB/s eta 0:00:00\n",
      "Installing collected packages: typing_extensions, sniffio, outcome, h11, exceptiongroup, wsproto, trio, trio-websocket, selenium\n",
      "  Attempting uninstall: typing_extensions\n",
      "    Found existing installation: typing_extensions 4.4.0\n",
      "    Uninstalling typing_extensions-4.4.0:\n",
      "      Successfully uninstalled typing_extensions-4.4.0\n",
      "  Attempting uninstall: sniffio\n",
      "    Found existing installation: sniffio 1.2.0\n",
      "    Uninstalling sniffio-1.2.0:\n",
      "      Successfully uninstalled sniffio-1.2.0\n",
      "Successfully installed exceptiongroup-1.2.0 h11-0.14.0 outcome-1.3.0.post0 selenium-4.18.1 sniffio-1.3.1 trio-0.24.0 trio-websocket-0.11.1 typing_extensions-4.10.0 wsproto-1.2.0\n"
     ]
    }
   ],
   "source": [
    "!pip install selenium"
   ]
  },
  {
   "cell_type": "code",
   "execution_count": 4,
   "id": "ac3dd12c",
   "metadata": {},
   "outputs": [],
   "source": [
    "import selenium"
   ]
  },
  {
   "cell_type": "code",
   "execution_count": 5,
   "id": "877d5fae",
   "metadata": {},
   "outputs": [
    {
     "name": "stdout",
     "output_type": "stream",
     "text": [
      "Collecting webdriver_manager\n",
      "  Downloading webdriver_manager-4.0.1-py2.py3-none-any.whl (27 kB)\n",
      "Collecting python-dotenv\n",
      "  Downloading python_dotenv-1.0.1-py3-none-any.whl (19 kB)\n",
      "Requirement already satisfied: packaging in c:\\users\\chlok\\anaconda1\\lib\\site-packages (from webdriver_manager) (22.0)\n",
      "Requirement already satisfied: requests in c:\\users\\chlok\\anaconda1\\lib\\site-packages (from webdriver_manager) (2.28.1)\n",
      "Requirement already satisfied: urllib3<1.27,>=1.21.1 in c:\\users\\chlok\\anaconda1\\lib\\site-packages (from requests->webdriver_manager) (1.26.14)\n",
      "Requirement already satisfied: certifi>=2017.4.17 in c:\\users\\chlok\\anaconda1\\lib\\site-packages (from requests->webdriver_manager) (2024.2.2)\n",
      "Requirement already satisfied: charset-normalizer<3,>=2 in c:\\users\\chlok\\anaconda1\\lib\\site-packages (from requests->webdriver_manager) (2.0.4)\n",
      "Requirement already satisfied: idna<4,>=2.5 in c:\\users\\chlok\\anaconda1\\lib\\site-packages (from requests->webdriver_manager) (3.4)\n",
      "Installing collected packages: python-dotenv, webdriver_manager\n",
      "Successfully installed python-dotenv-1.0.1 webdriver_manager-4.0.1\n"
     ]
    }
   ],
   "source": [
    "!pip install webdriver_manager"
   ]
  },
  {
   "cell_type": "code",
   "execution_count": 6,
   "id": "b51aff25",
   "metadata": {},
   "outputs": [],
   "source": [
    "import webdriver_manager"
   ]
  },
  {
   "cell_type": "code",
   "execution_count": 9,
   "id": "a0c0c238",
   "metadata": {},
   "outputs": [],
   "source": [
    "from selenium import webdriver\n",
    "from selenium.webdriver.chrome.options import Options\n",
    "from selenium.webdriver.common.by import By\n",
    "from selenium.webdriver.common.keys import Keys\n",
    "from webdriver_manager.chrome import ChromeDriverManager\n",
    "import pandas as pd"
   ]
  },
  {
   "cell_type": "code",
   "execution_count": 10,
   "id": "f07de0d6",
   "metadata": {},
   "outputs": [],
   "source": [
    "#define options and set browers capabilities\n",
    "options=webdriver.ChromeOptions()\n",
    "#options.add_argument('--some-option')"
   ]
  },
  {
   "cell_type": "code",
   "execution_count": 17,
   "id": "8451f709",
   "metadata": {},
   "outputs": [],
   "source": [
    "#create WebDriver instance with options\n",
    "driver=webdriver.Chrome(options=options)"
   ]
  },
  {
   "cell_type": "code",
   "execution_count": 18,
   "id": "c8aa19c2",
   "metadata": {},
   "outputs": [],
   "source": [
    "#navigate to a website\n",
    "driver.get('https://www.myntra.com/')"
   ]
  },
  {
   "cell_type": "code",
   "execution_count": 29,
   "id": "1c0728c1",
   "metadata": {},
   "outputs": [],
   "source": [
    "search=driver.find_element(By.XPATH,\".//input[@class='desktop-searchBar']\")"
   ]
  },
  {
   "cell_type": "code",
   "execution_count": 30,
   "id": "abd29b64",
   "metadata": {},
   "outputs": [],
   "source": [
    "search.send_keys(\"shirts\")"
   ]
  },
  {
   "cell_type": "code",
   "execution_count": 31,
   "id": "1d51953e",
   "metadata": {},
   "outputs": [],
   "source": [
    "search.send_keys(Keys.ENTER)"
   ]
  },
  {
   "cell_type": "code",
   "execution_count": 35,
   "id": "4f97431c",
   "metadata": {},
   "outputs": [],
   "source": [
    "brand=driver.find_elements(By.XPATH,\".//h3[@class='product-brand']\")\n",
    "brands=[i.text for i in brand]"
   ]
  },
  {
   "cell_type": "code",
   "execution_count": 36,
   "id": "233f2c1d",
   "metadata": {},
   "outputs": [
    {
     "name": "stdout",
     "output_type": "stream",
     "text": [
      "['The Indian Garage Co', 'Roadster', 'Mast & Harbour', 'HERE&NOW', 'Roadster', 'Mast & Harbour', 'WROGN', 'LOCOMOTIVE', 'Roadster', 'HERE&NOW', 'The Indian Garage Co', 'HERE&NOW', 'HERE&NOW', 'Dennis Lingo', 'KETCH', 'Roadster', 'HERE&NOW', 'Powerlook', 'Roadster', 'Chemistry', 'HERE&NOW', 'Roadster', 'Powerlook', 'THE BEAR HOUSE', 'Roadster', 'HIGHLANDER', 'Roadster', 'HIGHLANDER', 'Roadster', 'max', 'HIGHLANDER', 'Roadster', 'Dennis Lingo', 'Roadster', 'HIGHLANDER', 'HERE&NOW', 'The Indian Garage Co', 'Roadster', 'THE BEAR HOUSE', 'Mast & Harbour', 'Roadster', 'HIGHLANDER', 'Mast & Harbour', 'HIGHLANDER', 'Roadster', 'Roadster', 'Snitch', 'HERE&NOW', 'Roadster', 'HIGHLANDER']\n"
     ]
    }
   ],
   "source": [
    "print(brands)"
   ]
  },
  {
   "cell_type": "code",
   "execution_count": 39,
   "id": "7109a34d",
   "metadata": {},
   "outputs": [],
   "source": [
    "product=driver.find_elements(By.XPATH,\".//h4[@class='product-product']\")\n",
    "products=[i.text for i in product]"
   ]
  },
  {
   "cell_type": "code",
   "execution_count": 40,
   "id": "3a08bc86",
   "metadata": {},
   "outputs": [
    {
     "name": "stdout",
     "output_type": "stream",
     "text": [
      "['Men Slim Fit Casual Shirt', 'Men Casual Shirt', 'Men Slim Fit Casual Sustainable Shirt', 'Slim Fit Casual Shirt', 'Men Pure Cotton Casual Shirt', 'Checked Regular Casual Sustainable Shirt', 'Pure Cotton Printed Shirt', 'Men Slim Fit Casual Shirt', 'Men Cotton Casual Shirt', 'Men Regular Fit Sustainable Casual Shirt', 'Regular Fit Casual Shirt', 'Slim Fit Cotton Casual Shirt', 'Slim Fit Casual Shirt', 'Men Slim Fit Casual Shirt', 'Men Slim Fit Casual Shirt', 'Men Casual Shirt', 'Slim Fit Striped Casual Shirt', 'Oversized Casual Shirt', 'Men Cotton Casual Shirt', 'Striped Casual Shirt', 'Slim Fit Opaque Casual Shirt', 'Opaque Brown Casual Shirt', 'Semi Sheer Cotton Casual Shirt', 'Slim Fit Casual Shirt', 'Men Regular Fit Denim Shirt', 'Men Slim Fit Casual Shirt', 'Cotton Casual Shirt', 'Slim Fit Casual Shirt', 'Opaque Pure Cotton Shirt', 'Pure Cotton Casual Shirt', 'Slim Fit Casual Shirt', 'Regular Fit Indigo Checks', 'Men Slim Fit Casual Shirt', 'Solid Cotton Denim Shirt', 'Men Slim Fit Casual Shirt', 'Slim Fit Cotton Casual Shirt', 'Cotton Casual Shirt', 'Regular Fit Casual Shirt', 'Slim Fit Linen Casual Shirt', 'Men Casual Sustainable Shirt', 'Cotton Casual Shirt', 'Slim Casual Shirt', 'Ombre Dyed Pure Cotton Sustainable Shirt', 'Men Slim Fit Casual Shirt', 'Roll-Up Sleeved Casual Shirt', 'Men Slim Fit Denim Shirt', 'Slim Fit Cotton Casual Shirt', 'Slim Fit Casual Shirt', 'Men Regular Check Casual Shirt', 'Men Slim Fit Casual Shirt']\n"
     ]
    }
   ],
   "source": [
    "print(products)"
   ]
  },
  {
   "cell_type": "code",
   "execution_count": 52,
   "id": "af5624a5",
   "metadata": {},
   "outputs": [],
   "source": [
    "price=driver.find_elements(By.XPATH,\".//span[@class='product-discountedPrice']\")\n",
    "prices=[i.text for i in price]"
   ]
  },
  {
   "cell_type": "code",
   "execution_count": 53,
   "id": "8b318347",
   "metadata": {},
   "outputs": [
    {
     "name": "stdout",
     "output_type": "stream",
     "text": [
      "['Rs. 643', 'Rs. 664', 'Rs. 645', 'Rs. 599', 'Rs. 753', 'Rs. 799', 'Rs. 1407', 'Rs. 549', 'Rs. 607', 'Rs. 799', 'Rs. 682', 'Rs. 799', 'Rs. 699', 'Rs. 699', 'Rs. 337', 'Rs. 545', 'Rs. 749', 'Rs. 993', 'Rs. 619', 'Rs. 683', 'Rs. 699', 'Rs. 747', 'Rs. 1279', 'Rs. 1247', 'Rs. 539', 'Rs. 519', 'Rs. 549', 'Rs. 599', 'Rs. 685', 'Rs. 998', 'Rs. 671', 'Rs. 569', 'Rs. 699', 'Rs. 599', 'Rs. 615', 'Rs. 699', 'Rs. 594', 'Rs. 740', 'Rs. 1122', 'Rs. 959', 'Rs. 740', 'Rs. 519', 'Rs. 879', 'Rs. 558', 'Rs. 683', 'Rs. 611', 'Rs. 939', 'Rs. 749', 'Rs. 675', 'Rs. 519']\n"
     ]
    }
   ],
   "source": [
    "print(prices)"
   ]
  },
  {
   "cell_type": "code",
   "execution_count": 56,
   "id": "2ca34088",
   "metadata": {},
   "outputs": [
    {
     "data": {
      "text/html": [
       "<div>\n",
       "<style scoped>\n",
       "    .dataframe tbody tr th:only-of-type {\n",
       "        vertical-align: middle;\n",
       "    }\n",
       "\n",
       "    .dataframe tbody tr th {\n",
       "        vertical-align: top;\n",
       "    }\n",
       "\n",
       "    .dataframe thead th {\n",
       "        text-align: right;\n",
       "    }\n",
       "</style>\n",
       "<table border=\"1\" class=\"dataframe\">\n",
       "  <thead>\n",
       "    <tr style=\"text-align: right;\">\n",
       "      <th></th>\n",
       "      <th>Brand</th>\n",
       "      <th>Desc</th>\n",
       "      <th>Price</th>\n",
       "    </tr>\n",
       "  </thead>\n",
       "  <tbody>\n",
       "  </tbody>\n",
       "</table>\n",
       "</div>"
      ],
      "text/plain": [
       "Empty DataFrame\n",
       "Columns: [Brand, Desc, Price]\n",
       "Index: []"
      ]
     },
     "execution_count": 56,
     "metadata": {},
     "output_type": "execute_result"
    }
   ],
   "source": [
    "df=pd.DataFrame(columns=[\"Brand\",\"Desc\",\"Price\"])\n",
    "df"
   ]
  },
  {
   "cell_type": "code",
   "execution_count": 57,
   "id": "ae9f3982",
   "metadata": {},
   "outputs": [],
   "source": [
    "df['Brand']=brands\n",
    "df['Desc']=products\n",
    "df['Price']=prices"
   ]
  },
  {
   "cell_type": "code",
   "execution_count": 58,
   "id": "3730fcd6",
   "metadata": {},
   "outputs": [
    {
     "data": {
      "text/html": [
       "<div>\n",
       "<style scoped>\n",
       "    .dataframe tbody tr th:only-of-type {\n",
       "        vertical-align: middle;\n",
       "    }\n",
       "\n",
       "    .dataframe tbody tr th {\n",
       "        vertical-align: top;\n",
       "    }\n",
       "\n",
       "    .dataframe thead th {\n",
       "        text-align: right;\n",
       "    }\n",
       "</style>\n",
       "<table border=\"1\" class=\"dataframe\">\n",
       "  <thead>\n",
       "    <tr style=\"text-align: right;\">\n",
       "      <th></th>\n",
       "      <th>Brand</th>\n",
       "      <th>Desc</th>\n",
       "      <th>Price</th>\n",
       "    </tr>\n",
       "  </thead>\n",
       "  <tbody>\n",
       "    <tr>\n",
       "      <th>0</th>\n",
       "      <td>The Indian Garage Co</td>\n",
       "      <td>Men Slim Fit Casual Shirt</td>\n",
       "      <td>Rs. 643</td>\n",
       "    </tr>\n",
       "    <tr>\n",
       "      <th>1</th>\n",
       "      <td>Roadster</td>\n",
       "      <td>Men Casual Shirt</td>\n",
       "      <td>Rs. 664</td>\n",
       "    </tr>\n",
       "    <tr>\n",
       "      <th>2</th>\n",
       "      <td>Mast &amp; Harbour</td>\n",
       "      <td>Men Slim Fit Casual Sustainable Shirt</td>\n",
       "      <td>Rs. 645</td>\n",
       "    </tr>\n",
       "    <tr>\n",
       "      <th>3</th>\n",
       "      <td>HERE&amp;NOW</td>\n",
       "      <td>Slim Fit Casual Shirt</td>\n",
       "      <td>Rs. 599</td>\n",
       "    </tr>\n",
       "    <tr>\n",
       "      <th>4</th>\n",
       "      <td>Roadster</td>\n",
       "      <td>Men Pure Cotton Casual Shirt</td>\n",
       "      <td>Rs. 753</td>\n",
       "    </tr>\n",
       "    <tr>\n",
       "      <th>5</th>\n",
       "      <td>Mast &amp; Harbour</td>\n",
       "      <td>Checked Regular Casual Sustainable Shirt</td>\n",
       "      <td>Rs. 799</td>\n",
       "    </tr>\n",
       "    <tr>\n",
       "      <th>6</th>\n",
       "      <td>WROGN</td>\n",
       "      <td>Pure Cotton Printed Shirt</td>\n",
       "      <td>Rs. 1407</td>\n",
       "    </tr>\n",
       "    <tr>\n",
       "      <th>7</th>\n",
       "      <td>LOCOMOTIVE</td>\n",
       "      <td>Men Slim Fit Casual Shirt</td>\n",
       "      <td>Rs. 549</td>\n",
       "    </tr>\n",
       "    <tr>\n",
       "      <th>8</th>\n",
       "      <td>Roadster</td>\n",
       "      <td>Men Cotton Casual Shirt</td>\n",
       "      <td>Rs. 607</td>\n",
       "    </tr>\n",
       "    <tr>\n",
       "      <th>9</th>\n",
       "      <td>HERE&amp;NOW</td>\n",
       "      <td>Men Regular Fit Sustainable Casual Shirt</td>\n",
       "      <td>Rs. 799</td>\n",
       "    </tr>\n",
       "    <tr>\n",
       "      <th>10</th>\n",
       "      <td>The Indian Garage Co</td>\n",
       "      <td>Regular Fit Casual Shirt</td>\n",
       "      <td>Rs. 682</td>\n",
       "    </tr>\n",
       "    <tr>\n",
       "      <th>11</th>\n",
       "      <td>HERE&amp;NOW</td>\n",
       "      <td>Slim Fit Cotton Casual Shirt</td>\n",
       "      <td>Rs. 799</td>\n",
       "    </tr>\n",
       "    <tr>\n",
       "      <th>12</th>\n",
       "      <td>HERE&amp;NOW</td>\n",
       "      <td>Slim Fit Casual Shirt</td>\n",
       "      <td>Rs. 699</td>\n",
       "    </tr>\n",
       "    <tr>\n",
       "      <th>13</th>\n",
       "      <td>Dennis Lingo</td>\n",
       "      <td>Men Slim Fit Casual Shirt</td>\n",
       "      <td>Rs. 699</td>\n",
       "    </tr>\n",
       "    <tr>\n",
       "      <th>14</th>\n",
       "      <td>KETCH</td>\n",
       "      <td>Men Slim Fit Casual Shirt</td>\n",
       "      <td>Rs. 337</td>\n",
       "    </tr>\n",
       "    <tr>\n",
       "      <th>15</th>\n",
       "      <td>Roadster</td>\n",
       "      <td>Men Casual Shirt</td>\n",
       "      <td>Rs. 545</td>\n",
       "    </tr>\n",
       "    <tr>\n",
       "      <th>16</th>\n",
       "      <td>HERE&amp;NOW</td>\n",
       "      <td>Slim Fit Striped Casual Shirt</td>\n",
       "      <td>Rs. 749</td>\n",
       "    </tr>\n",
       "    <tr>\n",
       "      <th>17</th>\n",
       "      <td>Powerlook</td>\n",
       "      <td>Oversized Casual Shirt</td>\n",
       "      <td>Rs. 993</td>\n",
       "    </tr>\n",
       "    <tr>\n",
       "      <th>18</th>\n",
       "      <td>Roadster</td>\n",
       "      <td>Men Cotton Casual Shirt</td>\n",
       "      <td>Rs. 619</td>\n",
       "    </tr>\n",
       "    <tr>\n",
       "      <th>19</th>\n",
       "      <td>Chemistry</td>\n",
       "      <td>Striped Casual Shirt</td>\n",
       "      <td>Rs. 683</td>\n",
       "    </tr>\n",
       "    <tr>\n",
       "      <th>20</th>\n",
       "      <td>HERE&amp;NOW</td>\n",
       "      <td>Slim Fit Opaque Casual Shirt</td>\n",
       "      <td>Rs. 699</td>\n",
       "    </tr>\n",
       "    <tr>\n",
       "      <th>21</th>\n",
       "      <td>Roadster</td>\n",
       "      <td>Opaque Brown Casual Shirt</td>\n",
       "      <td>Rs. 747</td>\n",
       "    </tr>\n",
       "    <tr>\n",
       "      <th>22</th>\n",
       "      <td>Powerlook</td>\n",
       "      <td>Semi Sheer Cotton Casual Shirt</td>\n",
       "      <td>Rs. 1279</td>\n",
       "    </tr>\n",
       "    <tr>\n",
       "      <th>23</th>\n",
       "      <td>THE BEAR HOUSE</td>\n",
       "      <td>Slim Fit Casual Shirt</td>\n",
       "      <td>Rs. 1247</td>\n",
       "    </tr>\n",
       "    <tr>\n",
       "      <th>24</th>\n",
       "      <td>Roadster</td>\n",
       "      <td>Men Regular Fit Denim Shirt</td>\n",
       "      <td>Rs. 539</td>\n",
       "    </tr>\n",
       "    <tr>\n",
       "      <th>25</th>\n",
       "      <td>HIGHLANDER</td>\n",
       "      <td>Men Slim Fit Casual Shirt</td>\n",
       "      <td>Rs. 519</td>\n",
       "    </tr>\n",
       "    <tr>\n",
       "      <th>26</th>\n",
       "      <td>Roadster</td>\n",
       "      <td>Cotton Casual Shirt</td>\n",
       "      <td>Rs. 549</td>\n",
       "    </tr>\n",
       "    <tr>\n",
       "      <th>27</th>\n",
       "      <td>HIGHLANDER</td>\n",
       "      <td>Slim Fit Casual Shirt</td>\n",
       "      <td>Rs. 599</td>\n",
       "    </tr>\n",
       "    <tr>\n",
       "      <th>28</th>\n",
       "      <td>Roadster</td>\n",
       "      <td>Opaque Pure Cotton Shirt</td>\n",
       "      <td>Rs. 685</td>\n",
       "    </tr>\n",
       "    <tr>\n",
       "      <th>29</th>\n",
       "      <td>max</td>\n",
       "      <td>Pure Cotton Casual Shirt</td>\n",
       "      <td>Rs. 998</td>\n",
       "    </tr>\n",
       "    <tr>\n",
       "      <th>30</th>\n",
       "      <td>HIGHLANDER</td>\n",
       "      <td>Slim Fit Casual Shirt</td>\n",
       "      <td>Rs. 671</td>\n",
       "    </tr>\n",
       "    <tr>\n",
       "      <th>31</th>\n",
       "      <td>Roadster</td>\n",
       "      <td>Regular Fit Indigo Checks</td>\n",
       "      <td>Rs. 569</td>\n",
       "    </tr>\n",
       "    <tr>\n",
       "      <th>32</th>\n",
       "      <td>Dennis Lingo</td>\n",
       "      <td>Men Slim Fit Casual Shirt</td>\n",
       "      <td>Rs. 699</td>\n",
       "    </tr>\n",
       "    <tr>\n",
       "      <th>33</th>\n",
       "      <td>Roadster</td>\n",
       "      <td>Solid Cotton Denim Shirt</td>\n",
       "      <td>Rs. 599</td>\n",
       "    </tr>\n",
       "    <tr>\n",
       "      <th>34</th>\n",
       "      <td>HIGHLANDER</td>\n",
       "      <td>Men Slim Fit Casual Shirt</td>\n",
       "      <td>Rs. 615</td>\n",
       "    </tr>\n",
       "    <tr>\n",
       "      <th>35</th>\n",
       "      <td>HERE&amp;NOW</td>\n",
       "      <td>Slim Fit Cotton Casual Shirt</td>\n",
       "      <td>Rs. 699</td>\n",
       "    </tr>\n",
       "    <tr>\n",
       "      <th>36</th>\n",
       "      <td>The Indian Garage Co</td>\n",
       "      <td>Cotton Casual Shirt</td>\n",
       "      <td>Rs. 594</td>\n",
       "    </tr>\n",
       "    <tr>\n",
       "      <th>37</th>\n",
       "      <td>Roadster</td>\n",
       "      <td>Regular Fit Casual Shirt</td>\n",
       "      <td>Rs. 740</td>\n",
       "    </tr>\n",
       "    <tr>\n",
       "      <th>38</th>\n",
       "      <td>THE BEAR HOUSE</td>\n",
       "      <td>Slim Fit Linen Casual Shirt</td>\n",
       "      <td>Rs. 1122</td>\n",
       "    </tr>\n",
       "    <tr>\n",
       "      <th>39</th>\n",
       "      <td>Mast &amp; Harbour</td>\n",
       "      <td>Men Casual Sustainable Shirt</td>\n",
       "      <td>Rs. 959</td>\n",
       "    </tr>\n",
       "    <tr>\n",
       "      <th>40</th>\n",
       "      <td>Roadster</td>\n",
       "      <td>Cotton Casual Shirt</td>\n",
       "      <td>Rs. 740</td>\n",
       "    </tr>\n",
       "    <tr>\n",
       "      <th>41</th>\n",
       "      <td>HIGHLANDER</td>\n",
       "      <td>Slim Casual Shirt</td>\n",
       "      <td>Rs. 519</td>\n",
       "    </tr>\n",
       "    <tr>\n",
       "      <th>42</th>\n",
       "      <td>Mast &amp; Harbour</td>\n",
       "      <td>Ombre Dyed Pure Cotton Sustainable Shirt</td>\n",
       "      <td>Rs. 879</td>\n",
       "    </tr>\n",
       "    <tr>\n",
       "      <th>43</th>\n",
       "      <td>HIGHLANDER</td>\n",
       "      <td>Men Slim Fit Casual Shirt</td>\n",
       "      <td>Rs. 558</td>\n",
       "    </tr>\n",
       "    <tr>\n",
       "      <th>44</th>\n",
       "      <td>Roadster</td>\n",
       "      <td>Roll-Up Sleeved Casual Shirt</td>\n",
       "      <td>Rs. 683</td>\n",
       "    </tr>\n",
       "    <tr>\n",
       "      <th>45</th>\n",
       "      <td>Roadster</td>\n",
       "      <td>Men Slim Fit Denim Shirt</td>\n",
       "      <td>Rs. 611</td>\n",
       "    </tr>\n",
       "    <tr>\n",
       "      <th>46</th>\n",
       "      <td>Snitch</td>\n",
       "      <td>Slim Fit Cotton Casual Shirt</td>\n",
       "      <td>Rs. 939</td>\n",
       "    </tr>\n",
       "    <tr>\n",
       "      <th>47</th>\n",
       "      <td>HERE&amp;NOW</td>\n",
       "      <td>Slim Fit Casual Shirt</td>\n",
       "      <td>Rs. 749</td>\n",
       "    </tr>\n",
       "    <tr>\n",
       "      <th>48</th>\n",
       "      <td>Roadster</td>\n",
       "      <td>Men Regular Check Casual Shirt</td>\n",
       "      <td>Rs. 675</td>\n",
       "    </tr>\n",
       "    <tr>\n",
       "      <th>49</th>\n",
       "      <td>HIGHLANDER</td>\n",
       "      <td>Men Slim Fit Casual Shirt</td>\n",
       "      <td>Rs. 519</td>\n",
       "    </tr>\n",
       "  </tbody>\n",
       "</table>\n",
       "</div>"
      ],
      "text/plain": [
       "                   Brand                                      Desc     Price\n",
       "0   The Indian Garage Co                 Men Slim Fit Casual Shirt   Rs. 643\n",
       "1               Roadster                          Men Casual Shirt   Rs. 664\n",
       "2         Mast & Harbour     Men Slim Fit Casual Sustainable Shirt   Rs. 645\n",
       "3               HERE&NOW                     Slim Fit Casual Shirt   Rs. 599\n",
       "4               Roadster              Men Pure Cotton Casual Shirt   Rs. 753\n",
       "5         Mast & Harbour  Checked Regular Casual Sustainable Shirt   Rs. 799\n",
       "6                  WROGN                 Pure Cotton Printed Shirt  Rs. 1407\n",
       "7             LOCOMOTIVE                 Men Slim Fit Casual Shirt   Rs. 549\n",
       "8               Roadster                   Men Cotton Casual Shirt   Rs. 607\n",
       "9               HERE&NOW  Men Regular Fit Sustainable Casual Shirt   Rs. 799\n",
       "10  The Indian Garage Co                  Regular Fit Casual Shirt   Rs. 682\n",
       "11              HERE&NOW              Slim Fit Cotton Casual Shirt   Rs. 799\n",
       "12              HERE&NOW                     Slim Fit Casual Shirt   Rs. 699\n",
       "13          Dennis Lingo                 Men Slim Fit Casual Shirt   Rs. 699\n",
       "14                 KETCH                 Men Slim Fit Casual Shirt   Rs. 337\n",
       "15              Roadster                          Men Casual Shirt   Rs. 545\n",
       "16              HERE&NOW             Slim Fit Striped Casual Shirt   Rs. 749\n",
       "17             Powerlook                    Oversized Casual Shirt   Rs. 993\n",
       "18              Roadster                   Men Cotton Casual Shirt   Rs. 619\n",
       "19             Chemistry                      Striped Casual Shirt   Rs. 683\n",
       "20              HERE&NOW              Slim Fit Opaque Casual Shirt   Rs. 699\n",
       "21              Roadster                 Opaque Brown Casual Shirt   Rs. 747\n",
       "22             Powerlook            Semi Sheer Cotton Casual Shirt  Rs. 1279\n",
       "23        THE BEAR HOUSE                     Slim Fit Casual Shirt  Rs. 1247\n",
       "24              Roadster               Men Regular Fit Denim Shirt   Rs. 539\n",
       "25            HIGHLANDER                 Men Slim Fit Casual Shirt   Rs. 519\n",
       "26              Roadster                       Cotton Casual Shirt   Rs. 549\n",
       "27            HIGHLANDER                     Slim Fit Casual Shirt   Rs. 599\n",
       "28              Roadster                  Opaque Pure Cotton Shirt   Rs. 685\n",
       "29                   max                  Pure Cotton Casual Shirt   Rs. 998\n",
       "30            HIGHLANDER                     Slim Fit Casual Shirt   Rs. 671\n",
       "31              Roadster                 Regular Fit Indigo Checks   Rs. 569\n",
       "32          Dennis Lingo                 Men Slim Fit Casual Shirt   Rs. 699\n",
       "33              Roadster                  Solid Cotton Denim Shirt   Rs. 599\n",
       "34            HIGHLANDER                 Men Slim Fit Casual Shirt   Rs. 615\n",
       "35              HERE&NOW              Slim Fit Cotton Casual Shirt   Rs. 699\n",
       "36  The Indian Garage Co                       Cotton Casual Shirt   Rs. 594\n",
       "37              Roadster                  Regular Fit Casual Shirt   Rs. 740\n",
       "38        THE BEAR HOUSE               Slim Fit Linen Casual Shirt  Rs. 1122\n",
       "39        Mast & Harbour              Men Casual Sustainable Shirt   Rs. 959\n",
       "40              Roadster                       Cotton Casual Shirt   Rs. 740\n",
       "41            HIGHLANDER                         Slim Casual Shirt   Rs. 519\n",
       "42        Mast & Harbour  Ombre Dyed Pure Cotton Sustainable Shirt   Rs. 879\n",
       "43            HIGHLANDER                 Men Slim Fit Casual Shirt   Rs. 558\n",
       "44              Roadster              Roll-Up Sleeved Casual Shirt   Rs. 683\n",
       "45              Roadster                  Men Slim Fit Denim Shirt   Rs. 611\n",
       "46                Snitch              Slim Fit Cotton Casual Shirt   Rs. 939\n",
       "47              HERE&NOW                     Slim Fit Casual Shirt   Rs. 749\n",
       "48              Roadster            Men Regular Check Casual Shirt   Rs. 675\n",
       "49            HIGHLANDER                 Men Slim Fit Casual Shirt   Rs. 519"
      ]
     },
     "execution_count": 58,
     "metadata": {},
     "output_type": "execute_result"
    }
   ],
   "source": [
    "df"
   ]
  },
  {
   "cell_type": "code",
   "execution_count": 59,
   "id": "d87af4e2",
   "metadata": {},
   "outputs": [],
   "source": [
    "df.to_csv(\"df.csv\")"
   ]
  },
  {
   "cell_type": "code",
   "execution_count": null,
   "id": "56b75746",
   "metadata": {},
   "outputs": [],
   "source": []
  }
 ],
 "metadata": {
  "kernelspec": {
   "display_name": "Python 3 (ipykernel)",
   "language": "python",
   "name": "python3"
  },
  "language_info": {
   "codemirror_mode": {
    "name": "ipython",
    "version": 3
   },
   "file_extension": ".py",
   "mimetype": "text/x-python",
   "name": "python",
   "nbconvert_exporter": "python",
   "pygments_lexer": "ipython3",
   "version": "3.10.9"
  }
 },
 "nbformat": 4,
 "nbformat_minor": 5
}
