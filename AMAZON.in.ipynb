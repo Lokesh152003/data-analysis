{
 "cells": [
  {
   "cell_type": "code",
   "execution_count": 1,
   "id": "9a157ff8",
   "metadata": {},
   "outputs": [],
   "source": [
    "import selenium "
   ]
  },
  {
   "cell_type": "code",
   "execution_count": 2,
   "id": "74af920b",
   "metadata": {},
   "outputs": [],
   "source": [
    "import webdriver_manager"
   ]
  },
  {
   "cell_type": "code",
   "execution_count": 3,
   "id": "ab12e59a",
   "metadata": {},
   "outputs": [],
   "source": [
    "from selenium import webdriver\n",
    "from selenium.webdriver.chrome.options import Options\n",
    "from selenium.webdriver.common.by import By\n",
    "from selenium.webdriver.common.keys import Keys\n",
    "from webdriver_manager.chrome import ChromeDriverManager\n",
    "import pandas as pd"
   ]
  },
  {
   "cell_type": "code",
   "execution_count": 4,
   "id": "47d3aa8d",
   "metadata": {},
   "outputs": [],
   "source": [
    "options=webdriver.ChromeOptions()"
   ]
  },
  {
   "cell_type": "code",
   "execution_count": 5,
   "id": "f5af38cd",
   "metadata": {},
   "outputs": [],
   "source": [
    "driver=webdriver.Chrome(options=options)"
   ]
  },
  {
   "cell_type": "code",
   "execution_count": 6,
   "id": "ee9e9544",
   "metadata": {},
   "outputs": [],
   "source": [
    "driver.get('https://www.amazon.in/')"
   ]
  },
  {
   "cell_type": "code",
   "execution_count": 7,
   "id": "c534059b",
   "metadata": {},
   "outputs": [],
   "source": [
    "search=driver.find_element(By.XPATH,\".//input[@class='nav-input nav-progressive-attribute']\")"
   ]
  },
  {
   "cell_type": "code",
   "execution_count": 10,
   "id": "49080d55",
   "metadata": {},
   "outputs": [],
   "source": [
    "search.send_keys(\"dell laptop\")"
   ]
  },
  {
   "cell_type": "code",
   "execution_count": 11,
   "id": "168d29a4",
   "metadata": {},
   "outputs": [],
   "source": [
    "search.send_keys(Keys.ENTER)"
   ]
  },
  {
   "cell_type": "code",
   "execution_count": 22,
   "id": "bbe696b9",
   "metadata": {},
   "outputs": [],
   "source": [
    "l=driver.find_elements(By.XPATH,\".//span[@class='a-size-medium a-color-base a-text-normal']\")\n",
    "Brands=[l[i].text for i in range(10)]"
   ]
  },
  {
   "cell_type": "code",
   "execution_count": 75,
   "id": "c4098feb",
   "metadata": {},
   "outputs": [
    {
     "data": {
      "text/plain": [
       "['660',\n",
       " '1,249',\n",
       " '1,499',\n",
       " '34,990',\n",
       " '35,990',\n",
       " '47,990',\n",
       " '35,990',\n",
       " '33,990',\n",
       " '43,990',\n",
       " '49,990',\n",
       " '35,990',\n",
       " '23,000',\n",
       " '76,990']"
      ]
     },
     "execution_count": 75,
     "metadata": {},
     "output_type": "execute_result"
    }
   ],
   "source": [
    "l1=driver.find_elements(By.XPATH,\".//span[@class='a-price-whole']\")\n",
    "price=[l1[i].text for i in range(13)]\n",
    "price"
   ]
  },
  {
   "cell_type": "code",
   "execution_count": 76,
   "id": "ccc4ee34",
   "metadata": {},
   "outputs": [
    {
     "data": {
      "text/plain": [
       "['34,990',\n",
       " '35,990',\n",
       " '47,990',\n",
       " '35,990',\n",
       " '33,990',\n",
       " '43,990',\n",
       " '49,990',\n",
       " '35,990',\n",
       " '23,000',\n",
       " '76,990']"
      ]
     },
     "execution_count": 76,
     "metadata": {},
     "output_type": "execute_result"
    }
   ],
   "source": [
    "price=price[3:]\n",
    "price"
   ]
  },
  {
   "cell_type": "code",
   "execution_count": 47,
   "id": "037d7b18",
   "metadata": {},
   "outputs": [
    {
     "data": {
      "text/plain": [
       "['Dell 15 Laptop',\n",
       " 'Dell 14 Laptop',\n",
       " 'Dell 15 Laptop',\n",
       " 'Dell 14 Laptop',\n",
       " 'Dell 15 Laptop',\n",
       " 'Dell 15 Laptop',\n",
       " 'Dell 14 Laptop',\n",
       " 'Dell 14 Laptop',\n",
       " 'Dell Latitude ',\n",
       " 'Dell G15 5520 ']"
      ]
     },
     "execution_count": 47,
     "metadata": {},
     "output_type": "execute_result"
    }
   ],
   "source": [
    "final=[]\n",
    "for i in range(10):\n",
    "     final.append(Brands[i][:14])\n",
    "final\n",
    "    "
   ]
  },
  {
   "cell_type": "code",
   "execution_count": 55,
   "id": "f34ffa17",
   "metadata": {},
   "outputs": [],
   "source": [
    "df=pd.DataFrame(columns=[\"Brand\",\"Price\"])\n"
   ]
  },
  {
   "cell_type": "code",
   "execution_count": 77,
   "id": "b734d52e",
   "metadata": {},
   "outputs": [],
   "source": [
    "df['Brand']=final\n",
    "df['Price']=price"
   ]
  },
  {
   "cell_type": "code",
   "execution_count": 78,
   "id": "c9ad49f8",
   "metadata": {},
   "outputs": [
    {
     "data": {
      "text/html": [
       "<div>\n",
       "<style scoped>\n",
       "    .dataframe tbody tr th:only-of-type {\n",
       "        vertical-align: middle;\n",
       "    }\n",
       "\n",
       "    .dataframe tbody tr th {\n",
       "        vertical-align: top;\n",
       "    }\n",
       "\n",
       "    .dataframe thead th {\n",
       "        text-align: right;\n",
       "    }\n",
       "</style>\n",
       "<table border=\"1\" class=\"dataframe\">\n",
       "  <thead>\n",
       "    <tr style=\"text-align: right;\">\n",
       "      <th></th>\n",
       "      <th>Brand</th>\n",
       "      <th>Price</th>\n",
       "    </tr>\n",
       "  </thead>\n",
       "  <tbody>\n",
       "    <tr>\n",
       "      <th>0</th>\n",
       "      <td>Dell 15 Laptop</td>\n",
       "      <td>34,990</td>\n",
       "    </tr>\n",
       "    <tr>\n",
       "      <th>1</th>\n",
       "      <td>Dell 14 Laptop</td>\n",
       "      <td>35,990</td>\n",
       "    </tr>\n",
       "    <tr>\n",
       "      <th>2</th>\n",
       "      <td>Dell 15 Laptop</td>\n",
       "      <td>47,990</td>\n",
       "    </tr>\n",
       "    <tr>\n",
       "      <th>3</th>\n",
       "      <td>Dell 14 Laptop</td>\n",
       "      <td>35,990</td>\n",
       "    </tr>\n",
       "    <tr>\n",
       "      <th>4</th>\n",
       "      <td>Dell 15 Laptop</td>\n",
       "      <td>33,990</td>\n",
       "    </tr>\n",
       "    <tr>\n",
       "      <th>5</th>\n",
       "      <td>Dell 15 Laptop</td>\n",
       "      <td>43,990</td>\n",
       "    </tr>\n",
       "    <tr>\n",
       "      <th>6</th>\n",
       "      <td>Dell 14 Laptop</td>\n",
       "      <td>49,990</td>\n",
       "    </tr>\n",
       "    <tr>\n",
       "      <th>7</th>\n",
       "      <td>Dell 14 Laptop</td>\n",
       "      <td>35,990</td>\n",
       "    </tr>\n",
       "    <tr>\n",
       "      <th>8</th>\n",
       "      <td>Dell Latitude</td>\n",
       "      <td>23,000</td>\n",
       "    </tr>\n",
       "    <tr>\n",
       "      <th>9</th>\n",
       "      <td>Dell G15 5520</td>\n",
       "      <td>76,990</td>\n",
       "    </tr>\n",
       "  </tbody>\n",
       "</table>\n",
       "</div>"
      ],
      "text/plain": [
       "            Brand   Price\n",
       "0  Dell 15 Laptop  34,990\n",
       "1  Dell 14 Laptop  35,990\n",
       "2  Dell 15 Laptop  47,990\n",
       "3  Dell 14 Laptop  35,990\n",
       "4  Dell 15 Laptop  33,990\n",
       "5  Dell 15 Laptop  43,990\n",
       "6  Dell 14 Laptop  49,990\n",
       "7  Dell 14 Laptop  35,990\n",
       "8  Dell Latitude   23,000\n",
       "9  Dell G15 5520   76,990"
      ]
     },
     "execution_count": 78,
     "metadata": {},
     "output_type": "execute_result"
    }
   ],
   "source": [
    "df"
   ]
  },
  {
   "cell_type": "code",
   "execution_count": 81,
   "id": "f8a98759",
   "metadata": {},
   "outputs": [],
   "source": [
    "df.to_csv(\"amazon.csv\")"
   ]
  },
  {
   "cell_type": "code",
   "execution_count": null,
   "id": "69bdbd14",
   "metadata": {},
   "outputs": [],
   "source": []
  }
 ],
 "metadata": {
  "kernelspec": {
   "display_name": "Python 3 (ipykernel)",
   "language": "python",
   "name": "python3"
  },
  "language_info": {
   "codemirror_mode": {
    "name": "ipython",
    "version": 3
   },
   "file_extension": ".py",
   "mimetype": "text/x-python",
   "name": "python",
   "nbconvert_exporter": "python",
   "pygments_lexer": "ipython3",
   "version": "3.10.9"
  }
 },
 "nbformat": 4,
 "nbformat_minor": 5
}
